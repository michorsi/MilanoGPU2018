{
 "cells": [
  {
   "cell_type": "markdown",
   "metadata": {},
   "source": [
    "# License\n",
    "\n",
    "    Jupyter notebook for accessing OpenCL\n",
    "    Copyright (C) 2015, 2018 Andre.Brodtkorb@ifi.uio.no\n",
    "\n",
    "    This program is free software: you can redistribute it and/or modify\n",
    "    it under the terms of the GNU General Public License as published by\n",
    "    the Free Software Foundation, either version 3 of the License, or\n",
    "    (at your option) any later version.\n",
    "\n",
    "    This program is distributed in the hope that it will be useful,\n",
    "    but WITHOUT ANY WARRANTY; without even the implied warranty of\n",
    "    MERCHANTABILITY or FITNESS FOR A PARTICULAR PURPOSE.  See the\n",
    "    GNU General Public License for more details.\n",
    "\n",
    "    You should have received a copy of the GNU General Public License\n",
    "    along with this program.  If not, see <http://www.gnu.org/licenses/>."
   ]
  },
  {
   "cell_type": "code",
   "execution_count": 4,
   "metadata": {},
   "outputs": [
    {
     "name": "stdout",
     "output_type": "stream",
     "text": [
      "The pyopencl.ipython_ext extension is already loaded. To reload it, use:\n",
      "  %reload_ext pyopencl.ipython_ext\n"
     ]
    }
   ],
   "source": [
    "#Lets have matplotlib \"inline\"\n",
    "%matplotlib inline\n",
    "\n",
    "#Lets have opencl ipython integration enabled\n",
    "%load_ext pyopencl.ipython_ext\n",
    "\n",
    "#Import packages we need\n",
    "import os\n",
    "import numpy as np\n",
    "import pyopencl as cl\n",
    "\n",
    "from matplotlib import pyplot as plt\n",
    "\n",
    "#Make sure we get compiler output from OpenCL\n",
    "import os\n",
    "os.environ[\"PYOPENCL_COMPILER_OUTPUT\"] = \"1\""
   ]
  },
  {
   "cell_type": "code",
   "execution_count": 5,
   "metadata": {},
   "outputs": [
    {
     "name": "stdout",
     "output_type": "stream",
     "text": [
      "Using  Intel(R) Xeon(R) CPU E5-2686 v4 @ 2.30GHz\n"
     ]
    }
   ],
   "source": [
    "#Determine which GPU to use\n",
    "os.environ[\"PYOPENCL_CTX\"] = \"1\"\n",
    "\n",
    "#Create OpenCL context\n",
    "cl_ctx = cl.create_some_context()\n",
    "\n",
    "print(\"Using \", cl_ctx.devices[0].name)\n",
    "\n",
    "#Create an OpenCL command queue\n",
    "cl_queue = cl.CommandQueue(cl_ctx)"
   ]
  },
  {
   "cell_type": "code",
   "execution_count": 12,
   "metadata": {},
   "outputs": [],
   "source": [
    "%%cl_kernel \n",
    "//NOTE: we need to change this to 2D for matrix addition, add int columns, etc.\n",
    "__kernel void addKernel(__global float *c, __global const float *a, __global const float *b) {\n",
    "  int gid = get_global_id(0);\n",
    "  c[gid] = a[gid] + b[gid];\n",
    "}"
   ]
  },
  {
   "cell_type": "code",
   "execution_count": 13,
   "metadata": {},
   "outputs": [
    {
     "data": {
      "text/plain": [
       "<pyopencl.cffi_cl.NannyEvent at 0x7f2730ccfe48>"
      ]
     },
     "execution_count": 13,
     "metadata": {},
     "output_type": "execute_result"
    }
   ],
   "source": [
    "#Size of our test\n",
    "n = 50\n",
    "\n",
    "#Create test input / output data\n",
    "#NOTE: for matrix addition, need to use np.random.random((size)) for 2D\n",
    "a = np.random.rand(n).astype(np.float32)\n",
    "b = np.random.rand(n).astype(np.float32)\n",
    "c = np.empty_like(a)\n",
    "\n",
    "#Upload data to the device\n",
    "mf = cl.mem_flags\n",
    "a_g = cl.Buffer(cl_ctx, mf.READ_ONLY | mf.COPY_HOST_PTR, hostbuf=a)\n",
    "b_g = cl.Buffer(cl_ctx, mf.READ_ONLY | mf.COPY_HOST_PTR, hostbuf=b)\n",
    "\n",
    "#Allocate output data\n",
    "c_g = cl.Buffer(cl_ctx, mf.WRITE_ONLY, a.nbytes)\n",
    "\n",
    "#Execute program on device\n",
    "addKernel(cl_queue, a.shape, None, c_g, a_g, b_g)\n",
    "\n",
    "#Copy data from device to host\n",
    "cl.enqueue_copy(cl_queue, c, c_g)"
   ]
  },
  {
   "cell_type": "code",
   "execution_count": 14,
   "metadata": {},
   "outputs": [
    {
     "name": "stdout",
     "output_type": "stream",
     "text": [
      "C   =  [0.9768079  0.8764306  0.713727   0.2609406  0.5557971  1.1277865\n",
      " 0.6190405  0.61543995 1.0454016  0.4260309  0.41415584 1.1070936\n",
      " 1.6706223  0.76334804 1.1116567  0.61906356 1.6822122  1.3978986\n",
      " 1.2102394  0.632194   0.97911453 1.0531322  0.8776868  0.15496883\n",
      " 1.2094893  0.12549324 0.87840545 0.47314477 0.8340439  1.6782997\n",
      " 1.2302098  0.74743474 0.7499131  1.4427748  1.1755582  1.0729125\n",
      " 0.30236024 0.46477878 1.7786503  1.2564888  0.7501449  1.0019141\n",
      " 0.8658462  1.6684666  1.3225648  0.46959472 0.79801345 0.860368\n",
      " 0.6473717  0.82813823]\n",
      "Ref =  [0.9768079  0.8764306  0.713727   0.2609406  0.5557971  1.1277865\n",
      " 0.6190405  0.61543995 1.0454016  0.4260309  0.41415584 1.1070936\n",
      " 1.6706223  0.76334804 1.1116567  0.61906356 1.6822122  1.3978986\n",
      " 1.2102394  0.632194   0.97911453 1.0531322  0.8776868  0.15496883\n",
      " 1.2094893  0.12549324 0.87840545 0.47314477 0.8340439  1.6782997\n",
      " 1.2302098  0.74743474 0.7499131  1.4427748  1.1755582  1.0729125\n",
      " 0.30236024 0.46477878 1.7786503  1.2564888  0.7501449  1.0019141\n",
      " 0.8658462  1.6684666  1.3225648  0.46959472 0.79801345 0.860368\n",
      " 0.6473717  0.82813823]\n",
      "Sad =  0.0\n"
     ]
    }
   ],
   "source": [
    "#Compute reference using Numpy\n",
    "c_ref = a + b\n",
    "\n",
    "#Print result\n",
    "print(\"C   = \", c)\n",
    "print(\"Ref = \", c_ref)\n",
    "print(\"Sad = \", np.sum(np.abs(c - c_ref)))"
   ]
  },
  {
   "cell_type": "code",
   "execution_count": 15,
   "metadata": {},
   "outputs": [
    {
     "data": {
      "text/plain": [
       "[<matplotlib.lines.Line2D at 0x7f2730dbf4a8>]"
      ]
     },
     "execution_count": 15,
     "metadata": {},
     "output_type": "execute_result"
    },
    {
     "data": {
      "image/png": "[encoded data removed]",
      "text/plain": [
       "<matplotlib.figure.Figure at 0x7f2730da76d8>"
      ]
     },
     "metadata": {
      "needs_background": "light"
     },
     "output_type": "display_data"
    }
   ],
   "source": [
    "plt.figure()\n",
    "plt.plot(c, '+r')\n",
    "plt.plot(c_ref, 'xb')"
   ]
  },
  {
   "cell_type": "code",
   "execution_count": null,
   "metadata": {},
   "outputs": [],
   "source": []
  }
 ],
 "metadata": {
  "kernelspec": {
   "display_name": "Python 3",
   "language": "python",
   "name": "python3"
  },
  "language_info": {
   "codemirror_mode": {
    "name": "ipython",
    "version": 3
   },
   "file_extension": ".py",
   "mimetype": "text/x-python",
   "name": "python",
   "nbconvert_exporter": "python",
   "pygments_lexer": "ipython3",
   "version": "3.6.6"
  }
 },
 "nbformat": 4,
 "nbformat_minor": 2
}
