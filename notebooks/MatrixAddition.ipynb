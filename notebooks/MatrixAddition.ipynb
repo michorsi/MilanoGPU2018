{
 "cells": [
  {
   "cell_type": "markdown",
   "metadata": {},
   "source": [
    "# License\n",
    "\n",
    "    Jupyter notebook for accessing CUDA\n",
    "    Copyright (C) 2018 Andre.Brodtkorb@ifi.uio.no\n",
    "\n",
    "    This program is free software: you can redistribute it and/or modify\n",
    "    it under the terms of the GNU General Public License as published by\n",
    "    the Free Software Foundation, either version 3 of the License, or\n",
    "    (at your option) any later version.\n",
    "\n",
    "    This program is distributed in the hope that it will be useful,\n",
    "    but WITHOUT ANY WARRANTY; without even the implied warranty of\n",
    "    MERCHANTABILITY or FITNESS FOR A PARTICULAR PURPOSE.  See the\n",
    "    GNU General Public License for more details.\n",
    "\n",
    "    You should have received a copy of the GNU General Public License\n",
    "    along with this program.  If not, see <http://www.gnu.org/licenses/>."
   ]
  },
  {
   "cell_type": "code",
   "execution_count": 1,
   "metadata": {},
   "outputs": [],
   "source": [
    "#Lets have matplotlib \"inline\"\n",
    "%matplotlib inline\n",
    "\n",
    "#Import packages we need\n",
    "import numpy as np\n",
    "import pycuda.compiler as cuda_compiler\n",
    "from pycuda.gpuarray import GPUArray\n",
    "import pycuda.driver as cuda_driver\n",
    "\n",
    "from matplotlib import pyplot as plt"
   ]
  },
  {
   "cell_type": "code",
   "execution_count": 2,
   "metadata": {},
   "outputs": [],
   "source": [
    "#Initialize CUDA - must be first call to CUDA!\n",
    "cuda_driver.init()"
   ]
  },
  {
   "cell_type": "code",
   "execution_count": 3,
   "metadata": {},
   "outputs": [
    {
     "name": "stdout",
     "output_type": "stream",
     "text": [
      "Using 'Tesla K80'\n",
      " => compute capability: (3, 7)\n",
      " => memory: 9188 / 11441 MB available\n"
     ]
    }
   ],
   "source": [
    "#Create CUDA context\n",
    "cuda_device = cuda_driver.Device(0)\n",
    "print(\"Using '{:s}'\".format(cuda_device.name()))\n",
    "print(\" => compute capability: {:s}\".format(str(cuda_device.compute_capability())))\n",
    "context = cuda_device.make_context()\n",
    "free, total = cuda_driver.mem_get_info()\n",
    "print(\" => memory: {:d} / {:d} MB available\".format(int(free/(1024*1024)), int(total/(1024*1024))))"
   ]
  },
  {
   "cell_type": "code",
   "execution_count": 4,
   "metadata": {},
   "outputs": [],
   "source": [
    "cuda_kernel = \"\"\"\n",
    "__global__ void addVectorKernel(float* c, float* a, float* b) {\n",
    "    unsigned int i = blockIdx.x*blockDim.x + threadIdx.x;\n",
    "    c[i] = a[i] + b[i];\n",
    "}\n",
    "\n",
    "__global__ void addMatrixKernel(float* c, float* a, float* b, int cols) {\n",
    "\n",
    "    unsigned int i = blockIdx.x*blockDim.x + threadIdx.x;\n",
    "    unsigned int j = blockIdx.y*blockDim.y + threadIdx.y;\n",
    "    \n",
    "    //Pseudocode\n",
    "    //c[j][i] = a[j][i] + b[j][i]\n",
    "    unsigned int k = j*cols + i;\n",
    "    \n",
    "    c[k] = a[k] + b[k];\n",
    "}\n",
    "\"\"\"\n",
    "module = cuda_compiler.SourceModule(cuda_kernel)\n",
    "kernel = module.get_function(\"addMatrixKernel\");"
   ]
  },
  {
   "cell_type": "code",
   "execution_count": 5,
   "metadata": {},
   "outputs": [
    {
     "data": {
      "image/png": "[encoded data removed]",
      "text/plain": [
       "<matplotlib.figure.Figure at 0x7f7a56af9f98>"
      ]
     },
     "metadata": {
      "needs_background": "light"
     },
     "output_type": "display_data"
    }
   ],
   "source": [
    "#Size of our test\n",
    "test_size = (16, 24)\n",
    "\n",
    "#Create test input / output data\n",
    "a = np.random.random(test_size).astype(np.float32)\n",
    "b = np.random.random(test_size).astype(np.float32)\n",
    "c = np.empty_like(a)\n",
    "\n",
    "fig = plt.figure(figsize=(12,8))\n",
    "plt.imshow(a)\n",
    "plt.colorbar()\n",
    "plt.show()"
   ]
  },
  {
   "cell_type": "code",
   "execution_count": 26,
   "metadata": {},
   "outputs": [
    {
     "name": "stdout",
     "output_type": "stream",
     "text": [
      "(16, 24)\n"
     ]
    }
   ],
   "source": [
    "print(a.shape)"
   ]
  },
  {
   "cell_type": "code",
   "execution_count": 6,
   "metadata": {},
   "outputs": [],
   "source": [
    "#Upload data to the device\n",
    "a_g = GPUArray(a.shape, np.float32)\n",
    "b_g = GPUArray(b.shape, np.float32)\n",
    "a_g.set(a)\n",
    "b_g.set(b)"
   ]
  },
  {
   "cell_type": "code",
   "execution_count": 7,
   "metadata": {},
   "outputs": [],
   "source": [
    "#Allocate output data\n",
    "c_g = GPUArray(c.shape, np.float32)"
   ]
  },
  {
   "cell_type": "code",
   "execution_count": 8,
   "metadata": {},
   "outputs": [
    {
     "name": "stdout",
     "output_type": "stream",
     "text": [
      "Domain size is (24, 16)\n",
      "Block size is (8, 4, 1)\n",
      "Grid size is (3, 4, 1)\n"
     ]
    }
   ],
   "source": [
    "#a.shape = [rows, columns] => [y, x]\n",
    "domain_size = (a.shape[1], a.shape[0])   # now domain size is [x, y]\n",
    "block_size = (8, 4, 1)   # these need to be [x, y, z]\n",
    "grid_size = (domain_size[0] // block_size[0], domain_size[1] // block_size[1], 1)\n",
    "\n",
    "print(\"Domain size is \" + str(domain_size))\n",
    "print(\"Block size is \" + str(block_size))\n",
    "print(\"Grid size is \" + str(grid_size))\n"
   ]
  },
  {
   "cell_type": "code",
   "execution_count": 9,
   "metadata": {},
   "outputs": [
    {
     "data": {
      "text/plain": [
       "array([[1.004482  , 0.59744376, 1.0445153 , 0.587921  , 0.6168157 ,\n",
       "        0.43737733, 0.10281883, 1.6232245 , 1.8353882 , 0.9891432 ,\n",
       "        0.310919  , 0.4448145 , 1.1138706 , 1.1791784 , 1.555232  ,\n",
       "        0.8509283 , 1.2708294 , 1.2504425 , 0.92320573, 0.54293096,\n",
       "        0.4812964 , 0.46408546, 1.0762022 , 1.1725105 ],\n",
       "       [1.6120445 , 1.6109538 , 1.2073395 , 1.3896589 , 0.72524273,\n",
       "        1.5041511 , 1.3494356 , 0.12792253, 1.764331  , 0.38620663,\n",
       "        1.0828137 , 0.92245424, 1.853759  , 0.70627576, 1.4982018 ,\n",
       "        1.1132897 , 0.2916474 , 0.84569216, 1.2441529 , 0.9217887 ,\n",
       "        1.7431755 , 1.5133812 , 1.081547  , 0.6455034 ],\n",
       "       [0.44617516, 0.88472605, 0.38626516, 1.6284394 , 0.71229035,\n",
       "        1.6449496 , 1.0572976 , 1.1760999 , 0.33960304, 0.29898593,\n",
       "        1.5880446 , 1.3379874 , 1.6343027 , 1.4949329 , 0.8380735 ,\n",
       "        1.1733422 , 1.3787599 , 0.97923225, 0.79616326, 1.1721121 ,\n",
       "        0.9494343 , 0.9265407 , 0.21898428, 0.87591803],\n",
       "       [0.31106994, 1.1533763 , 1.5382571 , 1.1625669 , 1.0822417 ,\n",
       "        1.4257543 , 1.7016978 , 1.3026334 , 1.4640907 , 1.2768762 ,\n",
       "        0.10611603, 0.95507896, 1.2175252 , 0.7839614 , 1.2217057 ,\n",
       "        0.62754154, 0.5808119 , 0.84934604, 0.7889179 , 0.97808176,\n",
       "        1.2231373 , 0.97287214, 0.88218933, 1.1910365 ],\n",
       "       [1.1866632 , 0.43264753, 1.0425386 , 0.94798505, 0.7371096 ,\n",
       "        0.84403026, 0.538406  , 1.1556194 , 0.39511997, 0.7111197 ,\n",
       "        1.2119133 , 0.759915  , 0.9956993 , 1.5355107 , 1.6536498 ,\n",
       "        0.424813  , 1.5935485 , 1.6039673 , 0.5160702 , 1.5470921 ,\n",
       "        0.08718403, 0.8826933 , 0.15341216, 1.1337448 ],\n",
       "       [0.9285302 , 1.4990976 , 0.66311055, 1.2046461 , 1.581436  ,\n",
       "        0.20112556, 0.6289584 , 1.5522025 , 0.5120374 , 1.5170205 ,\n",
       "        0.91287106, 1.1720448 , 0.9554881 , 1.638107  , 0.7161044 ,\n",
       "        0.74089646, 1.2411627 , 0.4323684 , 0.9800405 , 1.1106982 ,\n",
       "        0.9208752 , 0.29554746, 0.6798215 , 0.72032225],\n",
       "       [0.5479815 , 0.5843289 , 0.77618027, 0.8736813 , 0.7593788 ,\n",
       "        1.2409937 , 1.3280609 , 1.5158479 , 1.237921  , 0.9876474 ,\n",
       "        1.7924588 , 1.3016629 , 1.3568867 , 1.5470467 , 0.9292424 ,\n",
       "        1.1089692 , 0.8375362 , 0.81063974, 0.7211837 , 1.390981  ,\n",
       "        0.8252861 , 0.39686978, 0.9435968 , 0.3896969 ],\n",
       "       [0.7303907 , 0.7190161 , 1.1098868 , 1.4765023 , 0.35175082,\n",
       "        0.38096815, 0.93642026, 0.96304995, 1.3889463 , 0.5202995 ,\n",
       "        0.8385212 , 1.290447  , 1.3437486 , 0.9707739 , 1.519421  ,\n",
       "        0.59313333, 0.7826458 , 0.41638637, 0.8198519 , 0.5739503 ,\n",
       "        1.5950571 , 1.4943523 , 0.36935723, 0.4135576 ],\n",
       "       [1.0522218 , 1.8398335 , 0.9308584 , 1.4772824 , 1.2666699 ,\n",
       "        1.3524518 , 1.1201656 , 0.8022077 , 0.6048196 , 1.7155812 ,\n",
       "        1.1096222 , 0.825695  , 0.2762543 , 0.89497477, 0.9860225 ,\n",
       "        1.3308856 , 1.5582044 , 0.7019812 , 0.8375284 , 0.9538562 ,\n",
       "        0.2907915 , 1.186991  , 1.2028673 , 0.9692267 ],\n",
       "       [1.3884628 , 1.6067123 , 0.6054531 , 0.59932697, 1.3584864 ,\n",
       "        0.5055602 , 0.40103507, 0.7844548 , 0.49244416, 1.3789754 ,\n",
       "        0.76686585, 1.3598008 , 1.2580136 , 0.524018  , 0.8514122 ,\n",
       "        1.0215563 , 0.8807671 , 0.6861222 , 1.2196732 , 1.5926867 ,\n",
       "        1.4467615 , 1.492569  , 0.85300595, 1.4918864 ],\n",
       "       [1.3413198 , 1.1879064 , 0.8680984 , 0.96019435, 1.1400017 ,\n",
       "        0.9694309 , 0.5459447 , 0.5035695 , 0.5062819 , 0.508484  ,\n",
       "        1.503061  , 1.0323544 , 0.9459652 , 0.30212322, 0.16748399,\n",
       "        0.24432793, 0.83938307, 0.49132714, 1.1833459 , 0.63517696,\n",
       "        1.0263536 , 1.3519788 , 1.6741064 , 1.5170333 ],\n",
       "       [1.4584726 , 0.83318985, 1.2147548 , 1.2871549 , 1.1139183 ,\n",
       "        1.04281   , 0.47430593, 0.82446265, 1.0442467 , 0.6925597 ,\n",
       "        1.3447243 , 0.6636696 , 0.8698098 , 0.23749852, 1.3936164 ,\n",
       "        0.87522984, 0.86206925, 1.3416466 , 0.7281612 , 0.99376184,\n",
       "        1.5914037 , 1.1749425 , 1.4117444 , 1.413728  ],\n",
       "       [1.5571847 , 0.73139524, 1.808738  , 1.0232501 , 1.0522538 ,\n",
       "        0.533786  , 1.572067  , 1.0759641 , 1.6506994 , 1.119396  ,\n",
       "        0.31624383, 1.6136066 , 0.9146488 , 0.332129  , 1.1928325 ,\n",
       "        0.8811327 , 1.7208315 , 1.0656284 , 0.94858766, 0.9965221 ,\n",
       "        0.50478035, 0.40704805, 0.5764571 , 0.31298473],\n",
       "       [0.8915593 , 0.8888406 , 1.9354178 , 1.34653   , 1.1152173 ,\n",
       "        0.9246895 , 1.6002234 , 1.0054057 , 1.0397637 , 0.8827215 ,\n",
       "        1.2253497 , 1.811195  , 1.3334076 , 1.0222296 , 1.4360763 ,\n",
       "        1.6654843 , 1.0369259 , 1.513867  , 0.6008719 , 1.8872604 ,\n",
       "        0.2792213 , 0.73104405, 0.73831785, 1.7752347 ],\n",
       "       [1.1743731 , 1.291517  , 1.4664354 , 0.6687441 , 1.3423073 ,\n",
       "        0.59865886, 0.23757198, 0.5742142 , 0.7798007 , 0.14952588,\n",
       "        1.640358  , 0.71552604, 1.9252505 , 0.5976032 , 0.5853918 ,\n",
       "        1.0083177 , 0.5047741 , 1.178783  , 0.22916871, 0.6884063 ,\n",
       "        0.7654351 , 0.7174779 , 0.51355255, 0.5907378 ],\n",
       "       [0.80189896, 1.126313  , 0.86751616, 1.1984389 , 1.1853203 ,\n",
       "        1.410841  , 1.2549797 , 1.4860797 , 0.9762079 , 1.3009894 ,\n",
       "        0.9720348 , 1.4286392 , 1.5286827 , 1.154675  , 0.6456568 ,\n",
       "        1.4031885 , 1.4111905 , 0.36643565, 0.40719563, 1.4781208 ,\n",
       "        0.6843653 , 1.6542752 , 0.43812805, 1.504631  ]], dtype=float32)"
      ]
     },
     "execution_count": 9,
     "metadata": {},
     "output_type": "execute_result"
    }
   ],
   "source": [
    "#Execute program on device\n",
    "kernel(c_g, a_g, b_g, np.int32(domain_size[0]), block=block_size, grid=grid_size)\n",
    "\n",
    "#Copy data from device to host\n",
    "c_g.get(c)"
   ]
  },
  {
   "cell_type": "code",
   "execution_count": 10,
   "metadata": {},
   "outputs": [
    {
     "name": "stdout",
     "output_type": "stream",
     "text": [
      "C   =  [[1.004482   0.59744376 1.0445153  0.587921   0.6168157  0.43737733\n",
      "  0.10281883 1.6232245  1.8353882  0.9891432  0.310919   0.4448145\n",
      "  1.1138706  1.1791784  1.555232   0.8509283  1.2708294  1.2504425\n",
      "  0.92320573 0.54293096 0.4812964  0.46408546 1.0762022  1.1725105 ]\n",
      " [1.6120445  1.6109538  1.2073395  1.3896589  0.72524273 1.5041511\n",
      "  1.3494356  0.12792253 1.764331   0.38620663 1.0828137  0.92245424\n",
      "  1.853759   0.70627576 1.4982018  1.1132897  0.2916474  0.84569216\n",
      "  1.2441529  0.9217887  1.7431755  1.5133812  1.081547   0.6455034 ]\n",
      " [0.44617516 0.88472605 0.38626516 1.6284394  0.71229035 1.6449496\n",
      "  1.0572976  1.1760999  0.33960304 0.29898593 1.5880446  1.3379874\n",
      "  1.6343027  1.4949329  0.8380735  1.1733422  1.3787599  0.97923225\n",
      "  0.79616326 1.1721121  0.9494343  0.9265407  0.21898428 0.87591803]\n",
      " [0.31106994 1.1533763  1.5382571  1.1625669  1.0822417  1.4257543\n",
      "  1.7016978  1.3026334  1.4640907  1.2768762  0.10611603 0.95507896\n",
      "  1.2175252  0.7839614  1.2217057  0.62754154 0.5808119  0.84934604\n",
      "  0.7889179  0.97808176 1.2231373  0.97287214 0.88218933 1.1910365 ]\n",
      " [1.1866632  0.43264753 1.0425386  0.94798505 0.7371096  0.84403026\n",
      "  0.538406   1.1556194  0.39511997 0.7111197  1.2119133  0.759915\n",
      "  0.9956993  1.5355107  1.6536498  0.424813   1.5935485  1.6039673\n",
      "  0.5160702  1.5470921  0.08718403 0.8826933  0.15341216 1.1337448 ]\n",
      " [0.9285302  1.4990976  0.66311055 1.2046461  1.581436   0.20112556\n",
      "  0.6289584  1.5522025  0.5120374  1.5170205  0.91287106 1.1720448\n",
      "  0.9554881  1.638107   0.7161044  0.74089646 1.2411627  0.4323684\n",
      "  0.9800405  1.1106982  0.9208752  0.29554746 0.6798215  0.72032225]\n",
      " [0.5479815  0.5843289  0.77618027 0.8736813  0.7593788  1.2409937\n",
      "  1.3280609  1.5158479  1.237921   0.9876474  1.7924588  1.3016629\n",
      "  1.3568867  1.5470467  0.9292424  1.1089692  0.8375362  0.81063974\n",
      "  0.7211837  1.390981   0.8252861  0.39686978 0.9435968  0.3896969 ]\n",
      " [0.7303907  0.7190161  1.1098868  1.4765023  0.35175082 0.38096815\n",
      "  0.93642026 0.96304995 1.3889463  0.5202995  0.8385212  1.290447\n",
      "  1.3437486  0.9707739  1.519421   0.59313333 0.7826458  0.41638637\n",
      "  0.8198519  0.5739503  1.5950571  1.4943523  0.36935723 0.4135576 ]\n",
      " [1.0522218  1.8398335  0.9308584  1.4772824  1.2666699  1.3524518\n",
      "  1.1201656  0.8022077  0.6048196  1.7155812  1.1096222  0.825695\n",
      "  0.2762543  0.89497477 0.9860225  1.3308856  1.5582044  0.7019812\n",
      "  0.8375284  0.9538562  0.2907915  1.186991   1.2028673  0.9692267 ]\n",
      " [1.3884628  1.6067123  0.6054531  0.59932697 1.3584864  0.5055602\n",
      "  0.40103507 0.7844548  0.49244416 1.3789754  0.76686585 1.3598008\n",
      "  1.2580136  0.524018   0.8514122  1.0215563  0.8807671  0.6861222\n",
      "  1.2196732  1.5926867  1.4467615  1.492569   0.85300595 1.4918864 ]\n",
      " [1.3413198  1.1879064  0.8680984  0.96019435 1.1400017  0.9694309\n",
      "  0.5459447  0.5035695  0.5062819  0.508484   1.503061   1.0323544\n",
      "  0.9459652  0.30212322 0.16748399 0.24432793 0.83938307 0.49132714\n",
      "  1.1833459  0.63517696 1.0263536  1.3519788  1.6741064  1.5170333 ]\n",
      " [1.4584726  0.83318985 1.2147548  1.2871549  1.1139183  1.04281\n",
      "  0.47430593 0.82446265 1.0442467  0.6925597  1.3447243  0.6636696\n",
      "  0.8698098  0.23749852 1.3936164  0.87522984 0.86206925 1.3416466\n",
      "  0.7281612  0.99376184 1.5914037  1.1749425  1.4117444  1.413728  ]\n",
      " [1.5571847  0.73139524 1.808738   1.0232501  1.0522538  0.533786\n",
      "  1.572067   1.0759641  1.6506994  1.119396   0.31624383 1.6136066\n",
      "  0.9146488  0.332129   1.1928325  0.8811327  1.7208315  1.0656284\n",
      "  0.94858766 0.9965221  0.50478035 0.40704805 0.5764571  0.31298473]\n",
      " [0.8915593  0.8888406  1.9354178  1.34653    1.1152173  0.9246895\n",
      "  1.6002234  1.0054057  1.0397637  0.8827215  1.2253497  1.811195\n",
      "  1.3334076  1.0222296  1.4360763  1.6654843  1.0369259  1.513867\n",
      "  0.6008719  1.8872604  0.2792213  0.73104405 0.73831785 1.7752347 ]\n",
      " [1.1743731  1.291517   1.4664354  0.6687441  1.3423073  0.59865886\n",
      "  0.23757198 0.5742142  0.7798007  0.14952588 1.640358   0.71552604\n",
      "  1.9252505  0.5976032  0.5853918  1.0083177  0.5047741  1.178783\n",
      "  0.22916871 0.6884063  0.7654351  0.7174779  0.51355255 0.5907378 ]\n",
      " [0.80189896 1.126313   0.86751616 1.1984389  1.1853203  1.410841\n",
      "  1.2549797  1.4860797  0.9762079  1.3009894  0.9720348  1.4286392\n",
      "  1.5286827  1.154675   0.6456568  1.4031885  1.4111905  0.36643565\n",
      "  0.40719563 1.4781208  0.6843653  1.6542752  0.43812805 1.504631  ]]\n",
      "Ref =  [[1.004482   0.59744376 1.0445153  0.587921   0.6168157  0.43737733\n",
      "  0.10281883 1.6232245  1.8353882  0.9891432  0.310919   0.4448145\n",
      "  1.1138706  1.1791784  1.555232   0.8509283  1.2708294  1.2504425\n",
      "  0.92320573 0.54293096 0.4812964  0.46408546 1.0762022  1.1725105 ]\n",
      " [1.6120445  1.6109538  1.2073395  1.3896589  0.72524273 1.5041511\n",
      "  1.3494356  0.12792253 1.764331   0.38620663 1.0828137  0.92245424\n",
      "  1.853759   0.70627576 1.4982018  1.1132897  0.2916474  0.84569216\n",
      "  1.2441529  0.9217887  1.7431755  1.5133812  1.081547   0.6455034 ]\n",
      " [0.44617516 0.88472605 0.38626516 1.6284394  0.71229035 1.6449496\n",
      "  1.0572976  1.1760999  0.33960304 0.29898593 1.5880446  1.3379874\n",
      "  1.6343027  1.4949329  0.8380735  1.1733422  1.3787599  0.97923225\n",
      "  0.79616326 1.1721121  0.9494343  0.9265407  0.21898428 0.87591803]\n",
      " [0.31106994 1.1533763  1.5382571  1.1625669  1.0822417  1.4257543\n",
      "  1.7016978  1.3026334  1.4640907  1.2768762  0.10611603 0.95507896\n",
      "  1.2175252  0.7839614  1.2217057  0.62754154 0.5808119  0.84934604\n",
      "  0.7889179  0.97808176 1.2231373  0.97287214 0.88218933 1.1910365 ]\n",
      " [1.1866632  0.43264753 1.0425386  0.94798505 0.7371096  0.84403026\n",
      "  0.538406   1.1556194  0.39511997 0.7111197  1.2119133  0.759915\n",
      "  0.9956993  1.5355107  1.6536498  0.424813   1.5935485  1.6039673\n",
      "  0.5160702  1.5470921  0.08718403 0.8826933  0.15341216 1.1337448 ]\n",
      " [0.9285302  1.4990976  0.66311055 1.2046461  1.581436   0.20112556\n",
      "  0.6289584  1.5522025  0.5120374  1.5170205  0.91287106 1.1720448\n",
      "  0.9554881  1.638107   0.7161044  0.74089646 1.2411627  0.4323684\n",
      "  0.9800405  1.1106982  0.9208752  0.29554746 0.6798215  0.72032225]\n",
      " [0.5479815  0.5843289  0.77618027 0.8736813  0.7593788  1.2409937\n",
      "  1.3280609  1.5158479  1.237921   0.9876474  1.7924588  1.3016629\n",
      "  1.3568867  1.5470467  0.9292424  1.1089692  0.8375362  0.81063974\n",
      "  0.7211837  1.390981   0.8252861  0.39686978 0.9435968  0.3896969 ]\n",
      " [0.7303907  0.7190161  1.1098868  1.4765023  0.35175082 0.38096815\n",
      "  0.93642026 0.96304995 1.3889463  0.5202995  0.8385212  1.290447\n",
      "  1.3437486  0.9707739  1.519421   0.59313333 0.7826458  0.41638637\n",
      "  0.8198519  0.5739503  1.5950571  1.4943523  0.36935723 0.4135576 ]\n",
      " [1.0522218  1.8398335  0.9308584  1.4772824  1.2666699  1.3524518\n",
      "  1.1201656  0.8022077  0.6048196  1.7155812  1.1096222  0.825695\n",
      "  0.2762543  0.89497477 0.9860225  1.3308856  1.5582044  0.7019812\n",
      "  0.8375284  0.9538562  0.2907915  1.186991   1.2028673  0.9692267 ]\n",
      " [1.3884628  1.6067123  0.6054531  0.59932697 1.3584864  0.5055602\n",
      "  0.40103507 0.7844548  0.49244416 1.3789754  0.76686585 1.3598008\n",
      "  1.2580136  0.524018   0.8514122  1.0215563  0.8807671  0.6861222\n",
      "  1.2196732  1.5926867  1.4467615  1.492569   0.85300595 1.4918864 ]\n",
      " [1.3413198  1.1879064  0.8680984  0.96019435 1.1400017  0.9694309\n",
      "  0.5459447  0.5035695  0.5062819  0.508484   1.503061   1.0323544\n",
      "  0.9459652  0.30212322 0.16748399 0.24432793 0.83938307 0.49132714\n",
      "  1.1833459  0.63517696 1.0263536  1.3519788  1.6741064  1.5170333 ]\n",
      " [1.4584726  0.83318985 1.2147548  1.2871549  1.1139183  1.04281\n",
      "  0.47430593 0.82446265 1.0442467  0.6925597  1.3447243  0.6636696\n",
      "  0.8698098  0.23749852 1.3936164  0.87522984 0.86206925 1.3416466\n",
      "  0.7281612  0.99376184 1.5914037  1.1749425  1.4117444  1.413728  ]\n",
      " [1.5571847  0.73139524 1.808738   1.0232501  1.0522538  0.533786\n",
      "  1.572067   1.0759641  1.6506994  1.119396   0.31624383 1.6136066\n",
      "  0.9146488  0.332129   1.1928325  0.8811327  1.7208315  1.0656284\n",
      "  0.94858766 0.9965221  0.50478035 0.40704805 0.5764571  0.31298473]\n",
      " [0.8915593  0.8888406  1.9354178  1.34653    1.1152173  0.9246895\n",
      "  1.6002234  1.0054057  1.0397637  0.8827215  1.2253497  1.811195\n",
      "  1.3334076  1.0222296  1.4360763  1.6654843  1.0369259  1.513867\n",
      "  0.6008719  1.8872604  0.2792213  0.73104405 0.73831785 1.7752347 ]\n",
      " [1.1743731  1.291517   1.4664354  0.6687441  1.3423073  0.59865886\n",
      "  0.23757198 0.5742142  0.7798007  0.14952588 1.640358   0.71552604\n",
      "  1.9252505  0.5976032  0.5853918  1.0083177  0.5047741  1.178783\n",
      "  0.22916871 0.6884063  0.7654351  0.7174779  0.51355255 0.5907378 ]\n",
      " [0.80189896 1.126313   0.86751616 1.1984389  1.1853203  1.410841\n",
      "  1.2549797  1.4860797  0.9762079  1.3009894  0.9720348  1.4286392\n",
      "  1.5286827  1.154675   0.6456568  1.4031885  1.4111905  0.36643565\n",
      "  0.40719563 1.4781208  0.6843653  1.6542752  0.43812805 1.504631  ]]\n",
      "Sad =  0.0\n"
     ]
    }
   ],
   "source": [
    "#Compute reference using Numpy\n",
    "c_ref = a + b\n",
    "\n",
    "#Print result\n",
    "print(\"C   = \", c)\n",
    "print(\"Ref = \", c_ref)\n",
    "print(\"Sad = \", np.sum(np.abs(c - c_ref)))"
   ]
  },
  {
   "cell_type": "code",
   "execution_count": 11,
   "metadata": {},
   "outputs": [
    {
     "data": {
      "text/plain": [
       "<matplotlib.image.AxesImage at 0x7f7a569d50b8>"
      ]
     },
     "execution_count": 11,
     "metadata": {},
     "output_type": "execute_result"
    },
    {
     "data": {
      "image/png": "[encoded data removed]",
      "text/plain": [
       "<matplotlib.figure.Figure at 0x7f7a8b8c63c8>"
      ]
     },
     "metadata": {
      "needs_background": "light"
     },
     "output_type": "display_data"
    }
   ],
   "source": [
    "plt.figure(figsize=(12,8))\n",
    "plt.subplot(1,2,1)\n",
    "plt.imshow(c)\n",
    "plt.subplot(1,2,2)\n",
    "plt.imshow(c_ref)"
   ]
  }
 ],
 "metadata": {
  "kernelspec": {
   "display_name": "Python 3",
   "language": "python",
   "name": "python3"
  },
  "language_info": {
   "codemirror_mode": {
    "name": "ipython",
    "version": 3
   },
   "file_extension": ".py",
   "mimetype": "text/x-python",
   "name": "python",
   "nbconvert_exporter": "python",
   "pygments_lexer": "ipython3",
   "version": "3.6.6"
  }
 },
 "nbformat": 4,
 "nbformat_minor": 2
}
